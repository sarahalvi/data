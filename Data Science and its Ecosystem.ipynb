{
 "cells": [
  {
   "cell_type": "markdown",
   "id": "4f0de1c5",
   "metadata": {},
   "source": [
    "# Data Science and its Ecosystem"
   ]
  },
  {
   "cell_type": "markdown",
   "id": "19360a0b",
   "metadata": {},
   "source": [
    "In this notebook data science tools are sumarized.\n"
   ]
  },
  {
   "cell_type": "markdown",
   "id": "6af89e9d",
   "metadata": {},
   "source": [
    "Some of the popular data science languages are\n",
    "1-Python\n",
    "2-R\n",
    "3-SQL\n",
    "4-C++\n",
    "5-Java "
   ]
  },
  {
   "cell_type": "markdown",
   "id": "926ff418",
   "metadata": {},
   "source": [
    "Some of the data Science libaries are\n",
    "1-PANDAS\n",
    "2-Numpy\n",
    "3-Scipy\n",
    "4-Pytorch\n"
   ]
  },
  {
   "cell_type": "markdown",
   "id": "7500b675",
   "metadata": {},
   "source": [
    "Data Science tools\n",
    "\n",
    "|Tensor Flow|\n",
    "|Snowflake|\n",
    "|SAS|"
   ]
  },
  {
   "cell_type": "markdown",
   "id": "95d98c38",
   "metadata": {},
   "source": [
    "## Arithematic Expression Examples"
   ]
  },
  {
   "cell_type": "code",
   "execution_count": 3,
   "id": "55687d2c",
   "metadata": {
    "scrolled": true
   },
   "outputs": [
    {
     "data": {
      "text/plain": [
       "33"
      ]
     },
     "execution_count": 3,
     "metadata": {},
     "output_type": "execute_result"
    }
   ],
   "source": [
    "# this a a common example to evulate arithematic expression.\n",
    "3*(5+6)\n",
    "sn"
   ]
  },
  {
   "cell_type": "markdown",
   "id": "3dfa49ff",
   "metadata": {},
   "source": [
    "# to convert minutes to hours\n",
    "200/60"
   ]
  },
  {
   "cell_type": "markdown",
   "id": "815be98d",
   "metadata": {},
   "source": [
    "### Objectives"
   ]
  },
  {
   "cell_type": "markdown",
   "id": "8d21fc3c",
   "metadata": {},
   "source": [
    "1-List popular languages of Data Science\n",
    "2-List popular libraries in Data Science\n",
    "3-List of well known data science tools\n",
    "4-to learn how to perform arithematic operation"
   ]
  },
  {
   "cell_type": "markdown",
   "id": "46e8fc6d",
   "metadata": {},
   "source": [
    "#### Authors Name"
   ]
  },
  {
   "cell_type": "markdown",
   "id": "553d493a",
   "metadata": {},
   "source": [
    "Sarah Alvi\n"
   ]
  },
  {
   "cell_type": "code",
   "execution_count": null,
   "id": "b91deb8c",
   "metadata": {},
   "outputs": [],
   "source": []
  }
 ],
 "metadata": {
  "kernelspec": {
   "display_name": "Python 3",
   "language": "python",
   "name": "python3"
  },
  "language_info": {
   "codemirror_mode": {
    "name": "ipython",
    "version": 3
   },
   "file_extension": ".py",
   "mimetype": "text/x-python",
   "name": "python",
   "nbconvert_exporter": "python",
   "pygments_lexer": "ipython3",
   "version": "3.8.8"
  }
 },
 "nbformat": 4,
 "nbformat_minor": 5
}
